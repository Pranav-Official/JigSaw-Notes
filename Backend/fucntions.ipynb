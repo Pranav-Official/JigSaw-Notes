{
 "cells": [
  {
   "cell_type": "code",
   "execution_count": 3,
   "metadata": {},
   "outputs": [],
   "source": [
    "import json"
   ]
  },
  {
   "cell_type": "code",
   "execution_count": 4,
   "metadata": {},
   "outputs": [
    {
     "name": "stdout",
     "output_type": "stream",
     "text": [
      "hello\n"
     ]
    }
   ],
   "source": [
    "print(\"hello\")"
   ]
  },
  {
   "cell_type": "code",
   "execution_count": 2,
   "metadata": {},
   "outputs": [
    {
     "name": "stdout",
     "output_type": "stream",
     "text": [
      "Defaulting to user installation because normal site-packages is not writeable\n",
      "Collecting pymongo\n",
      "  Downloading pymongo-4.3.3-cp311-cp311-manylinux_2_17_x86_64.manylinux2014_x86_64.whl (494 kB)\n",
      "\u001b[2K     \u001b[90m━━━━━━━━━━━━━━━━━━━━━━━━━━━━━━━━━━━━━━━\u001b[0m \u001b[32m494.9/494.9 kB\u001b[0m \u001b[31m1.7 MB/s\u001b[0m eta \u001b[36m0:00:00\u001b[0m00:01\u001b[0m00:01\u001b[0m\n",
      "\u001b[?25hCollecting dnspython<3.0.0,>=1.16.0\n",
      "  Downloading dnspython-2.3.0-py3-none-any.whl (283 kB)\n",
      "\u001b[2K     \u001b[90m━━━━━━━━━━━━━━━━━━━━━━━━━━━━━━━━━━━━━━━\u001b[0m \u001b[32m283.7/283.7 kB\u001b[0m \u001b[31m3.7 MB/s\u001b[0m eta \u001b[36m0:00:00\u001b[0m00:01\u001b[0m\n",
      "\u001b[?25hInstalling collected packages: dnspython, pymongo\n",
      "Successfully installed dnspython-2.3.0 pymongo-4.3.3\n"
     ]
    }
   ],
   "source": [
    "!pip install pymongo "
   ]
  },
  {
   "cell_type": "code",
   "execution_count": 5,
   "metadata": {},
   "outputs": [],
   "source": [
    "from pymongo import MongoClient\n",
    "\n",
    "client = MongoClient()\n"
   ]
  },
  {
   "cell_type": "code",
   "execution_count": 6,
   "metadata": {},
   "outputs": [],
   "source": [
    "client = MongoClient()"
   ]
  },
  {
   "cell_type": "code",
   "execution_count": 7,
   "metadata": {},
   "outputs": [],
   "source": [
    "db = client[\"Notes\"]"
   ]
  },
  {
   "cell_type": "code",
   "execution_count": 8,
   "metadata": {},
   "outputs": [],
   "source": [
    "QuickNotesCollection = db[\"QuickNotes\"]"
   ]
  },
  {
   "cell_type": "code",
   "execution_count": 21,
   "metadata": {},
   "outputs": [],
   "source": [
    "QNote ={\n",
    "    \"_id\": 3,\n",
    "    \"Title\":\"Note 0\",\n",
    "    \"Note\":\"rid est laborum.ccsasca\"\n",
    "}"
   ]
  },
  {
   "cell_type": "code",
   "execution_count": 22,
   "metadata": {},
   "outputs": [
    {
     "data": {
      "text/plain": [
       "<pymongo.results.InsertOneResult at 0x7f93b042c3a0>"
      ]
     },
     "execution_count": 22,
     "metadata": {},
     "output_type": "execute_result"
    }
   ],
   "source": [
    "QuickNotesCollection.insert_one(QNote)"
   ]
  },
  {
   "cell_type": "code",
   "execution_count": 67,
   "metadata": {},
   "outputs": [],
   "source": [
    "notes = QuickNotesCollection.find().limit(3)"
   ]
  },
  {
   "cell_type": "code",
   "execution_count": 48,
   "metadata": {},
   "outputs": [
    {
     "name": "stdout",
     "output_type": "stream",
     "text": [
      "{'_id': 1, 'Title': 'Note 1', 'Note': 'This is a test note number 1'}\n",
      "{'_id': 2, 'Title': 'Note 2', 'Note': 'This is a test note number 2'}\n",
      "{'_id': 3, 'Title': 'Note 3', 'Note': 'This is a test note number 3'}\n"
     ]
    }
   ],
   "source": [
    "a = []\n",
    "for note in notes:\n",
    "    print(note)\n",
    "    a.append(note)"
   ]
  },
  {
   "cell_type": "code",
   "execution_count": 49,
   "metadata": {},
   "outputs": [
    {
     "name": "stdout",
     "output_type": "stream",
     "text": [
      "[{'_id': 1, 'Title': 'Note 1', 'Note': 'This is a test note number 1'}, {'_id': 2, 'Title': 'Note 2', 'Note': 'This is a test note number 2'}, {'_id': 3, 'Title': 'Note 3', 'Note': 'This is a test note number 3'}]\n"
     ]
    }
   ],
   "source": [
    "print(a)"
   ]
  },
  {
   "cell_type": "code",
   "execution_count": 65,
   "metadata": {},
   "outputs": [],
   "source": [
    "string = json.dumps(a, indent=2,sort_keys=True)"
   ]
  },
  {
   "cell_type": "code",
   "execution_count": 117,
   "metadata": {},
   "outputs": [
    {
     "name": "stdout",
     "output_type": "stream",
     "text": [
      "{\"_id\": 0, \"Title\": \"Note 0\", \"Note\": \"rid est laborum.ccsasca\"}\n"
     ]
    }
   ],
   "source": [
    "print(string)"
   ]
  },
  {
   "cell_type": "code",
   "execution_count": 76,
   "metadata": {},
   "outputs": [],
   "source": [
    "def GetQuickNotes():\n",
    "    notes = QuickNotesCollection.find()\n",
    "    a = []\n",
    "    for note in notes:\n",
    "        print(note)\n",
    "        note2 = note\n",
    "        if(len(note2[\"Note\"])>100):\n",
    "            note2[\"Note\"] = note2[\"Note\"][:100]\n",
    "        a.append(note2)\n",
    "    string = json.dumps(a, indent=3,sort_keys=False)\n",
    "    print(string)"
   ]
  },
  {
   "cell_type": "code",
   "execution_count": 74,
   "metadata": {},
   "outputs": [
    {
     "name": "stdout",
     "output_type": "stream",
     "text": [
      "{'_id': 1, 'Title': 'Note 1', 'Note': 'This is a test note number 1'}\n",
      "{'_id': 2, 'Title': 'Note 2', 'Note': 'This is a test note number 2'}\n",
      "{'_id': 3, 'Title': 'Note 3', 'Note': 'This is a test note number 3'}\n",
      "{'_id': 4, 'Title': 'Note 4', 'Note': 'Lorem ipsum dolor sit amet, consectetur adipiscing elit, sed do eiusmod tempor incididunt ut labore et dolore magna aliqua. Ut enim ad minim veniam, quis nostrud exercitation ullamco laboris nisi ut aliquip ex ea commodo consequat. Duis aute irure dolor in reprehenderit in voluptate velit esse cillum dolore eu fugiat nulla pariatur. Excepteur sint occaecat cupidatat non proident, sunt in culpa qui officia deserunt mollit anim id est laborum.'}\n",
      "[\n",
      "   {\n",
      "      \"_id\": 1,\n",
      "      \"Title\": \"Note 1\",\n",
      "      \"Note\": \"This is a test note number 1\"\n",
      "   },\n",
      "   {\n",
      "      \"_id\": 2,\n",
      "      \"Title\": \"Note 2\",\n",
      "      \"Note\": \"This is a test note number 2\"\n",
      "   },\n",
      "   {\n",
      "      \"_id\": 3,\n",
      "      \"Title\": \"Note 3\",\n",
      "      \"Note\": \"This is a test note number 3\"\n",
      "   },\n",
      "   {\n",
      "      \"_id\": 4,\n",
      "      \"Title\": \"Note 4\",\n",
      "      \"Note\": \"Lorem ipsum dolor sit amet, consectetur adipiscing elit, sed do eiusmod tempor incididunt ut labore et dolore magna aliqua. Ut enim ad minim veniam, q\"\n",
      "   }\n",
      "]\n"
     ]
    }
   ],
   "source": [
    "GetQuickNotes()"
   ]
  },
  {
   "cell_type": "code",
   "execution_count": 126,
   "metadata": {},
   "outputs": [],
   "source": [
    "def GetQuickNotePage(id):\n",
    "    note = QuickNotesCollection.find_one({\"_id\": id})\n",
    "    string = json.dumps(note,indent=3,sort_keys=False)\n",
    "    print(string)\n",
    "    return string"
   ]
  },
  {
   "cell_type": "code",
   "execution_count": 131,
   "metadata": {},
   "outputs": [
    {
     "name": "stdout",
     "output_type": "stream",
     "text": [
      "{\n",
      "   \"_id\": 3,\n",
      "   \"Title\": \"Note 3\",\n",
      "   \"Note\": \"This is a test note number 3\"\n",
      "}\n"
     ]
    }
   ],
   "source": [
    "string= GetQuickNotePage(3)"
   ]
  },
  {
   "cell_type": "code",
   "execution_count": 139,
   "metadata": {},
   "outputs": [],
   "source": [
    "string ={'_id': 6, 'Title': 'Note 1', 'Note': 'This is a test note number 1'}"
   ]
  },
  {
   "cell_type": "code",
   "execution_count": 137,
   "metadata": {},
   "outputs": [],
   "source": [
    "string[\"Note\"]=\"Power\""
   ]
  },
  {
   "cell_type": "code",
   "execution_count": 135,
   "metadata": {},
   "outputs": [],
   "source": [
    "def CreateNewQuickNote(string):\n",
    "    QuickNotesCollection.insert_one(string)"
   ]
  },
  {
   "cell_type": "code",
   "execution_count": 130,
   "metadata": {},
   "outputs": [
    {
     "data": {
      "text/plain": [
       "5"
      ]
     },
     "execution_count": 130,
     "metadata": {},
     "output_type": "execute_result"
    }
   ],
   "source": [
    "QuickNotesCollection.find({}).sort(\"_id\",-1).limit(1)[0][\"_id\"]"
   ]
  },
  {
   "cell_type": "code",
   "execution_count": 141,
   "metadata": {},
   "outputs": [],
   "source": [
    "def CreateNewQuickNote(string):\n",
    "    id = QuickNotesCollection.find({}).sort(\"_id\",-1).limit(1)[0][\"_id\"]\n",
    "    id = id+1\n",
    "    template = {\n",
    "    \"_id\":-1,\n",
    "    \"Title\": \"\",\n",
    "    \"Note\": \"\"\n",
    "    }\n",
    "    template[\"_id\"]=id\n",
    "    template[\"Note\"]=string[\"Note\"]\n",
    "    template[\"Title\"]=string[\"Title\"]\n",
    "    QuickNotesCollection.insert_one(template)"
   ]
  },
  {
   "cell_type": "code",
   "execution_count": 142,
   "metadata": {},
   "outputs": [],
   "source": [
    "CreateNewQuickNote(string)"
   ]
  },
  {
   "cell_type": "code",
   "execution_count": 109,
   "metadata": {},
   "outputs": [],
   "source": [
    "def UpdateCurrentQuickNote(string):\n",
    "    data = json.loads(string)\n",
    "    print(data[\"_id\"])\n",
    "\n",
    "    QuickNotesCollection.update_one({\"_id\":data[\"_id\"]},{\"$set\":{\"Title\":data[\"Title\"]}})\n",
    "    QuickNotesCollection.update_one({\"_id\":data[\"_id\"]},{\"$set\":{\"Note\":data[\"Note\"]}})"
   ]
  },
  {
   "cell_type": "code",
   "execution_count": 110,
   "metadata": {},
   "outputs": [
    {
     "name": "stdout",
     "output_type": "stream",
     "text": [
      "6\n"
     ]
    }
   ],
   "source": [
    "UpdateCurrentQuickNote(string)"
   ]
  },
  {
   "cell_type": "code",
   "execution_count": 10,
   "metadata": {},
   "outputs": [
    {
     "data": {
      "text/plain": [
       "<pymongo.results.DeleteResult at 0x7f93d4d831f0>"
      ]
     },
     "execution_count": 10,
     "metadata": {},
     "output_type": "execute_result"
    }
   ],
   "source": [
    "def DeleteCurrentQuickNote(id):\n",
    "    QuickNotesCollection.delete_one({\"_id\":id})"
   ]
  },
  {
   "cell_type": "code",
   "execution_count": 84,
   "metadata": {},
   "outputs": [],
   "source": [
    "NoteBooksCollection = db[\"Notebooks\"]"
   ]
  },
  {
   "cell_type": "code",
   "execution_count": 85,
   "metadata": {},
   "outputs": [
    {
     "name": "stdout",
     "output_type": "stream",
     "text": [
      "Collection(Database(MongoClient(host=['localhost:27017'], document_class=dict, tz_aware=False, connect=True), 'Notes'), 'Notebooks')\n"
     ]
    }
   ],
   "source": [
    "print(NoteBooksCollection)"
   ]
  },
  {
   "cell_type": "code",
   "execution_count": 24,
   "metadata": {},
   "outputs": [
    {
     "data": {
      "text/plain": [
       "<pymongo.results.InsertOneResult at 0x7f93b2e22a40>"
      ]
     },
     "execution_count": 24,
     "metadata": {},
     "output_type": "execute_result"
    }
   ],
   "source": [
    "NoteBooksCollection.insert_one({\n",
    "    \"_id\":2,\n",
    "    \"subject\": \"Biology\",\n",
    "    \"Chapters\": [\n",
    "        {\n",
    "            \"Chapter_Title\":\"Anatomy\",\n",
    "            \"Chapter_Note\" : \"Lorem ipsum dolor sit amet, consectetur adipiscing elit, sed do eiusmod tempor incididunt ut labore et dolore magna aliqua. Ut enim ad minim veniam, q\"\n",
    "        },\n",
    "        {\n",
    "            \"Chapter_Title\":\"Plants\",\n",
    "            \"Chapter_Note\" : \"Lorem ipsum dolor sit amet, consectetur adipiscing elit, sed do eiusmod tempor incididunt ut labore et dolore magna aliqua. Ut enim ad minim veniam, q\"\n",
    "        },\n",
    "        {\n",
    "            \"Chapter_Title\":\"Heart\",\n",
    "            \"Chapter_Note\" : \"Lorem ipsum dolor sit amet, consectetur adipiscing elit, sed do eiusmod tempor incididunt ut labore et dolore magna aliqua. Ut enim ad minim veniam, q\"\n",
    "        },\n",
    "        {\n",
    "            \"Chapter_Title\":\"Kidney\",\n",
    "            \"Chapter_Note\" : \"Lorem ipsum dolor sit amet, consectetur adipiscing elit, sed do eiusmod tempor incididunt ut labore et dolore magna aliqua. Ut enim ad minim veniam, q\"\n",
    "        }\n",
    "\n",
    "\n",
    "    ]\n",
    "})"
   ]
  },
  {
   "cell_type": "code",
   "execution_count": 28,
   "metadata": {},
   "outputs": [],
   "source": [
    "def GetNoteBooks():\n",
    "    Books = NoteBooksCollection.find()\n",
    "    a = []\n",
    "    for Book in Books:\n",
    "        print(Book)\n",
    "        a.append(Book[\"subject\"])\n",
    "    string = json.dumps(a, indent=3,sort_keys=False)\n",
    "    print(string)"
   ]
  },
  {
   "cell_type": "code",
   "execution_count": 86,
   "metadata": {},
   "outputs": [
    {
     "name": "stdout",
     "output_type": "stream",
     "text": [
      "{'_id': 0, 'subject': 'Physics', 'Chapters': [{'Chapter_Title': 'Light', 'Chapter_Note': 'Lorem ipsum dolor sit amet, consectetur adipiscing elit, sed do eiusmod tempor incididunt ut labore et dolore magna aliqua. Ut enim ad minim veniam, q'}, {'Chapter_Title': 'Power', 'Chapter_Note': 'Lorem ipsum dolor sit amet, consectetur adipiscing elit, sed do eiusmod tempor incididunt ut labore et dolore magna aliqua. Ut enim ad minim veniam, q'}, {'Chapter_Title': 'Atoms', 'Chapter_Note': 'Lorem ipsum dolor sit amet, consectetur adipiscing elit, sed do eiusmod tempor incididunt ut labore et dolore magna aliqua. Ut enim ad minim veniam, q'}, {'Chapter_Title': 'EM waves', 'Chapter_Note': 'Lorem ipsum dolor sit amet, consectetur adipiscing elit, sed do eiusmod tempor incididunt ut labore et dolore magna aliqua. Ut enim ad minim veniam, q'}]}\n",
      "{'_id': 1, 'subject': 'Chemistry', 'Chapters': [{'Chapter_Title': 'Organinc', 'Chapter_Note': 'Lorem ipsum dolor sit amet, consectetur adipiscing elit, sed do eiusmod tempor incididunt ut labore et dolore magna aliqua. Ut enim ad minim veniam, q'}, {'Chapter_Title': 'InOrganic', 'Chapter_Note': 'Lorem ipsum dolor sit amet, consectetur adipiscing elit, sed do eiusmod tempor incididunt ut labore et dolore magna aliqua. Ut enim ad minim veniam, q'}, {'Chapter_Title': 'Molecules', 'Chapter_Note': 'Lorem ipsum dolor sit amet, consectetur adipiscing elit, sed do eiusmod tempor incididunt ut labore et dolore magna aliqua. Ut enim ad minim veniam, q'}, {'Chapter_Title': 'Redox', 'Chapter_Note': 'Lorem ipsum dolor sit amet, consectetur adipiscing elit, sed do eiusmod tempor incididunt ut labore et dolore magna aliqua. Ut enim ad minim veniam, q'}]}\n",
      "{'_id': 2, 'subject': 'Biology', 'Chapters': [{'Chapter_Title': 'Anatomy', 'Chapter_Note': 'Lorem ipsum dolor sit amet, consectetur adipiscing elit, sed do eiusmod tempor incididunt ut labore et dolore magna aliqua. Ut enim ad minim veniam, q'}, {'Chapter_Title': 'Plants', 'Chapter_Note': 'Lorem ipsum dolor sit amet, consectetur adipiscing elit, sed do eiusmod tempor incididunt ut labore et dolore magna aliqua. Ut enim ad minim veniam, q'}, {'Chapter_Title': 'Heart', 'Chapter_Note': 'Lorem ipsum dolor sit amet, consectetur adipiscing elit, sed do eiusmod tempor incididunt ut labore et dolore magna aliqua. Ut enim ad minim veniam, q'}, {'Chapter_Title': 'Kidney', 'Chapter_Note': 'Lorem ipsum dolor sit amet, consectetur adipiscing elit, sed do eiusmod tempor incididunt ut labore et dolore magna aliqua. Ut enim ad minim veniam, q'}]}\n",
      "[\n",
      "   \"Physics\",\n",
      "   \"Chemistry\",\n",
      "   \"Biology\"\n",
      "]\n"
     ]
    }
   ],
   "source": [
    "GetNoteBooks()"
   ]
  },
  {
   "cell_type": "code",
   "execution_count": 30,
   "metadata": {},
   "outputs": [],
   "source": [
    "Books = NoteBooksCollection.find()"
   ]
  },
  {
   "cell_type": "code",
   "execution_count": 34,
   "metadata": {},
   "outputs": [
    {
     "name": "stdout",
     "output_type": "stream",
     "text": [
      "4\n"
     ]
    }
   ],
   "source": [
    "print(len(Books[0][\"Chapters\"]))"
   ]
  },
  {
   "cell_type": "code",
   "execution_count": 36,
   "metadata": {},
   "outputs": [
    {
     "name": "stdout",
     "output_type": "stream",
     "text": [
      "{'Chapter_Title': 'Light', 'Chapter_Note': 'Lorem ipsum dolor sit amet, consectetur adipiscing elit, sed do eiusmod tempor incididunt ut labore et dolore magna aliqua. Ut enim ad minim veniam, q'}\n"
     ]
    }
   ],
   "source": [
    "print(Books[0][\"Chapters\"][0])"
   ]
  },
  {
   "cell_type": "code",
   "execution_count": 50,
   "metadata": {},
   "outputs": [],
   "source": [
    "Book = NoteBooksCollection.find({\"subject\":\"Physics\"})[0]\n"
   ]
  },
  {
   "cell_type": "code",
   "execution_count": 51,
   "metadata": {},
   "outputs": [],
   "source": [
    "Chapters = Book[\"Chapters\"]"
   ]
  },
  {
   "cell_type": "code",
   "execution_count": 52,
   "metadata": {},
   "outputs": [
    {
     "name": "stdout",
     "output_type": "stream",
     "text": [
      "4\n"
     ]
    }
   ],
   "source": [
    "print(len(Chapters))"
   ]
  },
  {
   "cell_type": "code",
   "execution_count": 53,
   "metadata": {},
   "outputs": [
    {
     "name": "stdout",
     "output_type": "stream",
     "text": [
      "{'Chapter_Title': 'Light', 'Chapter_Note': 'Lorem ipsum dolor sit amet, consectetur adipiscing elit, sed do eiusmod tempor incididunt ut labore et dolore magna aliqua. Ut enim ad minim veniam, q'}\n"
     ]
    }
   ],
   "source": [
    "print(Chapters[0])"
   ]
  },
  {
   "cell_type": "code",
   "execution_count": 59,
   "metadata": {},
   "outputs": [],
   "source": [
    "def GetChapters(SubjectName,ChapterIndex):\n",
    "    Book = NoteBooksCollection.find({\"subject\":SubjectName})[0]\n",
    "    Chapters = Book[\"Chapters\"]\n",
    "    NoOfChapters = len(Chapters)\n",
    "    ChapTitle = Chapters[ChapterIndex][\"Chapter_Title\"]\n",
    "    ChapNote = Chapters[ChapterIndex][\"Chapter_Note\"]\n",
    "    a = [{\"NumberOfChapters\":NoOfChapters},{\"Chapter_Title\":ChapTitle},{\"Chapter_Note\":ChapNote}]\n",
    "    string = json.dumps(a, indent=3,sort_keys=False)\n",
    "    print(string)\n",
    "    \n",
    "\n",
    "    "
   ]
  },
  {
   "cell_type": "code",
   "execution_count": 63,
   "metadata": {},
   "outputs": [
    {
     "name": "stdout",
     "output_type": "stream",
     "text": [
      "[\n",
      "   {\n",
      "      \"NumberOfChapters\": 4\n",
      "   },\n",
      "   {\n",
      "      \"Chapter_Title\": \"Light\"\n",
      "   },\n",
      "   {\n",
      "      \"Chapter_Note\": \"Lorem ipsum dolor sit amet, consectetur adipiscing elit, sed do eiusmod tempor incididunt ut labore et dolore magna aliqua. Ut enim ad minim veniam, q\"\n",
      "   }\n",
      "]\n"
     ]
    }
   ],
   "source": [
    "GetChapters(\"Physics\",0)"
   ]
  },
  {
   "cell_type": "code",
   "execution_count": 101,
   "metadata": {},
   "outputs": [],
   "source": [
    "id = NoteBooksCollection.find({}).sort(\"_id\",-1).limit(1)[0][\"_id\"]"
   ]
  },
  {
   "cell_type": "code",
   "execution_count": 102,
   "metadata": {},
   "outputs": [
    {
     "name": "stdout",
     "output_type": "stream",
     "text": [
      "2\n"
     ]
    }
   ],
   "source": [
    "print(id)"
   ]
  },
  {
   "cell_type": "code",
   "execution_count": 104,
   "metadata": {},
   "outputs": [],
   "source": [
    "template = {\n",
    "    \"_id\":-1,\n",
    "    \"subject\": \"\",\n",
    "    \"Chapters\": [\n",
    "        {\n",
    "            \"Chapter_Title\":\"\",\n",
    "            \"Chapter_Note\" : \"\"\n",
    "        }\n",
    "\n",
    "\n",
    "    ]\n",
    "}"
   ]
  },
  {
   "cell_type": "code",
   "execution_count": 107,
   "metadata": {},
   "outputs": [],
   "source": [
    "NewChapter = template\n",
    "NewChapter[\"_id\"]=3\n",
    "NewChapter[\"subject\"] = \"Data Structers\"\n"
   ]
  },
  {
   "cell_type": "code",
   "execution_count": 108,
   "metadata": {},
   "outputs": [
    {
     "data": {
      "text/plain": [
       "<pymongo.results.InsertOneResult at 0x7f939b777e80>"
      ]
     },
     "execution_count": 108,
     "metadata": {},
     "output_type": "execute_result"
    }
   ],
   "source": [
    "NoteBooksCollection.insert_one(NewChapter)"
   ]
  },
  {
   "cell_type": "code",
   "execution_count": 109,
   "metadata": {},
   "outputs": [],
   "source": [
    "def CreateNewNoteBook(string):\n",
    "    id = NoteBooksCollection.find({}).sort(\"_id\",-1).limit(1)[0][\"_id\"]\n",
    "    id = id+1\n",
    "    template = {\n",
    "    \"_id\":-1,\n",
    "    \"subject\": \"\",\n",
    "    \"Chapters\": [\n",
    "        {\n",
    "            \"Chapter_Title\":\"\",\n",
    "            \"Chapter_Note\" : \"\"\n",
    "        }\n",
    "\n",
    "    ]\n",
    "    }\n",
    "    template[\"_id\"]=id\n",
    "    template[\"subject\"]=string\n",
    "    NoteBooksCollection.insert_one(template)\n"
   ]
  },
  {
   "cell_type": "code",
   "execution_count": 115,
   "metadata": {},
   "outputs": [],
   "source": [
    "CreateNewNoteBook(\"Algorithm\")"
   ]
  },
  {
   "cell_type": "code",
   "execution_count": 114,
   "metadata": {},
   "outputs": [],
   "source": [
    "def DeleteNoteBook(id):    \n",
    "    NoteBooksCollection.delete_one({\"_id\":id})"
   ]
  },
  {
   "cell_type": "code",
   "execution_count": 116,
   "metadata": {},
   "outputs": [],
   "source": [
    "DeleteNoteBook(3)"
   ]
  },
  {
   "cell_type": "code",
   "execution_count": 143,
   "metadata": {},
   "outputs": [],
   "source": [
    "book = NoteBooksCollection.find_one({\"id\":2})"
   ]
  },
  {
   "cell_type": "code",
   "execution_count": 144,
   "metadata": {},
   "outputs": [
    {
     "data": {
      "text/plain": [
       "<pymongo.results.UpdateResult at 0x7f939b2e4040>"
      ]
     },
     "execution_count": 144,
     "metadata": {},
     "output_type": "execute_result"
    }
   ],
   "source": [
    "NoteBooksCollection.update_one({\"_id\":2},{\"$set\":{\"subject\":\"algo\"}})"
   ]
  },
  {
   "cell_type": "code",
   "execution_count": 146,
   "metadata": {},
   "outputs": [],
   "source": [
    "def UpdateNoteBooks(id,SubjectName):\n",
    "    NoteBooksCollection.update_one({\"_id\":id},{\"$set\":{\"subject\":SubjectName}})"
   ]
  },
  {
   "cell_type": "code",
   "execution_count": 147,
   "metadata": {},
   "outputs": [],
   "source": [
    "UpdateNoteBooks(2,\"Power\")"
   ]
  },
  {
   "cell_type": "code",
   "execution_count": 197,
   "metadata": {},
   "outputs": [],
   "source": [
    "id = 2"
   ]
  },
  {
   "cell_type": "code",
   "execution_count": 161,
   "metadata": {},
   "outputs": [],
   "source": [
    "book = NoteBooksCollection.find_one({\"_id\":id})"
   ]
  },
  {
   "cell_type": "code",
   "execution_count": 162,
   "metadata": {},
   "outputs": [
    {
     "name": "stdout",
     "output_type": "stream",
     "text": [
      "{'_id': 2, 'subject': 'Power', 'Chapters': [{'Chapter_Title': 'Anatomy', 'Chapter_Note': 'Lorem ipsum dolor sit amet, consectetur adipiscing elit, sed do eiusmod tempor incididunt ut labore et dolore magna aliqua. Ut enim ad minim veniam, q'}, {'Chapter_Title': 'Plants', 'Chapter_Note': 'Lorem ipsum dolor sit amet, consectetur adipiscing elit, sed do eiusmod tempor incididunt ut labore et dolore magna aliqua. Ut enim ad minim veniam, q'}, {'Chapter_Title': 'Heart', 'Chapter_Note': 'Lorem ipsum dolor sit amet, consectetur adipiscing elit, sed do eiusmod tempor incididunt ut labore et dolore magna aliqua. Ut enim ad minim veniam, q'}, {'Chapter_Title': 'Kidney', 'Chapter_Note': 'Lorem ipsum dolor sit amet, consectetur adipiscing elit, sed do eiusmod tempor incididunt ut labore et dolore magna aliqua. Ut enim ad minim veniam, q'}]}\n"
     ]
    }
   ],
   "source": [
    "print(book)"
   ]
  },
  {
   "cell_type": "code",
   "execution_count": 216,
   "metadata": {},
   "outputs": [],
   "source": [
    "chapter_add = [{'Chapter_Title': 'lalala', 'Chapter_Note': 'Lorem ipsum dolor Ut enim ad minim veniam, q'}]"
   ]
  },
  {
   "cell_type": "code",
   "execution_count": 217,
   "metadata": {},
   "outputs": [],
   "source": [
    "update = { \"$push\": { \"Chapters\": { \"$each\": chapter_add } } }"
   ]
  },
  {
   "cell_type": "code",
   "execution_count": 218,
   "metadata": {},
   "outputs": [
    {
     "data": {
      "text/plain": [
       "<pymongo.results.UpdateResult at 0x7f939b1560b0>"
      ]
     },
     "execution_count": 218,
     "metadata": {},
     "output_type": "execute_result"
    }
   ],
   "source": [
    "NoteBooksCollection.update_one({\"_id\":id},update)"
   ]
  },
  {
   "cell_type": "code",
   "execution_count": 219,
   "metadata": {},
   "outputs": [],
   "source": [
    "def AddChapter(string):\n",
    "    a = []\n",
    "    a.append(string)\n",
    "    update = { \"$push\": { \"Chapters\": { \"$each\": a} } }\n",
    "    NoteBooksCollection.update_one({\"_id\":2},update)"
   ]
  },
  {
   "cell_type": "code",
   "execution_count": 239,
   "metadata": {},
   "outputs": [],
   "source": [
    "string = {\"ChapterNo\":0,'Chapter_Title': 'paavar', 'Chapter_Note': ''}\n"
   ]
  },
  {
   "cell_type": "code",
   "execution_count": 220,
   "metadata": {},
   "outputs": [],
   "source": [
    "AddChapter(string)"
   ]
  },
  {
   "cell_type": "code",
   "execution_count": 198,
   "metadata": {},
   "outputs": [],
   "source": [
    "Chapter_Notedic = NoteBooksCollection.find_one({\"_id\":id})[\"Chapters\"]"
   ]
  },
  {
   "cell_type": "code",
   "execution_count": 201,
   "metadata": {},
   "outputs": [
    {
     "name": "stdout",
     "output_type": "stream",
     "text": [
      "5\n"
     ]
    }
   ],
   "source": [
    "print(len(dic))"
   ]
  },
  {
   "cell_type": "code",
   "execution_count": 200,
   "metadata": {},
   "outputs": [
    {
     "data": {
      "text/plain": [
       "{'Chapter_Title': 'bobobob',\n",
       " 'Chapter_Note': 'Lorem ipsum dolor Ut enim ad minim veniam, q'}"
      ]
     },
     "execution_count": 200,
     "metadata": {},
     "output_type": "execute_result"
    }
   ],
   "source": [
    "dic.pop(5)"
   ]
  },
  {
   "cell_type": "code",
   "execution_count": 202,
   "metadata": {},
   "outputs": [],
   "source": [
    "update = { \"$set\": { \"Chapters\": dic } }"
   ]
  },
  {
   "cell_type": "code",
   "execution_count": 203,
   "metadata": {},
   "outputs": [
    {
     "data": {
      "text/plain": [
       "<pymongo.results.UpdateResult at 0x7f939b769c00>"
      ]
     },
     "execution_count": 203,
     "metadata": {},
     "output_type": "execute_result"
    }
   ],
   "source": [
    "NoteBooksCollection.update_one({\"_id\":id},update)"
   ]
  },
  {
   "cell_type": "code",
   "execution_count": 208,
   "metadata": {},
   "outputs": [],
   "source": [
    "def DeleteChapter(ChapterNumber):\n",
    "    dic = NoteBooksCollection.find_one({\"_id\":id})[\"Chapters\"]\n",
    "    dic.pop(ChapterNumber)\n",
    "    update = { \"$set\": { \"Chapters\": dic } }\n",
    "    NoteBooksCollection.update_one({\"_id\":id},update)"
   ]
  },
  {
   "cell_type": "code",
   "execution_count": 205,
   "metadata": {},
   "outputs": [],
   "source": [
    "DeleteChapter(4)"
   ]
  },
  {
   "cell_type": "code",
   "execution_count": 240,
   "metadata": {},
   "outputs": [],
   "source": [
    "def UpdateChapter(string):\n",
    "    dic = NoteBooksCollection.find_one({\"_id\":2})[\"Chapters\"]\n",
    "    number = string[\"ChapterNo\"]\n",
    "    dic[number][\"Chapter_Title\"]= string[\"Chapter_Title\"]\n",
    "    dic[number]['Chapter_Note']= string['Chapter_Note']\n",
    "    update = { \"$set\": { \"Chapters\": dic } }\n",
    "    NoteBooksCollection.update_one({\"_id\":id},update)"
   ]
  },
  {
   "cell_type": "code",
   "execution_count": 241,
   "metadata": {},
   "outputs": [],
   "source": [
    "UpdateChapter(string)"
   ]
  },
  {
   "cell_type": "code",
   "execution_count": null,
   "metadata": {},
   "outputs": [],
   "source": []
  }
 ],
 "metadata": {
  "kernelspec": {
   "display_name": "Python 3 (ipykernel)",
   "language": "python",
   "name": "python3"
  },
  "language_info": {
   "codemirror_mode": {
    "name": "ipython",
    "version": 3
   },
   "file_extension": ".py",
   "mimetype": "text/x-python",
   "name": "python",
   "nbconvert_exporter": "python",
   "pygments_lexer": "ipython3",
   "version": "3.11.2"
  },
  "orig_nbformat": 4
 },
 "nbformat": 4,
 "nbformat_minor": 2
}
